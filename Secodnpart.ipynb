{
  "nbformat": 4,
  "nbformat_minor": 0,
  "metadata": {
    "colab": {
      "provenance": []
    },
    "kernelspec": {
      "name": "python3",
      "display_name": "Python 3"
    },
    "language_info": {
      "name": "python"
    }
  },
  "cells": [
    {
      "cell_type": "code",
      "source": [
        "\n",
        "from google.colab import drive\n",
        "drive.mount('/content/drive')\n"
      ],
      "metadata": {
        "colab": {
          "base_uri": "https://localhost:8080/"
        },
        "id": "YtGiEpPnjmUS",
        "outputId": "5aa53b1f-8b2b-431e-91d1-18e66fcb267f"
      },
      "execution_count": null,
      "outputs": [
        {
          "output_type": "stream",
          "name": "stdout",
          "text": [
            "Mounted at /content/drive\n"
          ]
        }
      ]
    },
    {
      "cell_type": "code",
      "source": [
        "import os\n",
        "print(os.getcwd())"
      ],
      "metadata": {
        "colab": {
          "base_uri": "https://localhost:8080/"
        },
        "id": "_5XuhYTnlA8x",
        "outputId": "024bfca7-363c-4dc0-b7e4-b14d592447a3"
      },
      "execution_count": null,
      "outputs": [
        {
          "output_type": "stream",
          "name": "stdout",
          "text": [
            "/content\n"
          ]
        }
      ]
    },
    {
      "cell_type": "code",
      "execution_count": null,
      "metadata": {
        "id": "a2rkIVS5QXqt"
      },
      "outputs": [],
      "source": [
        "import pandas as pd\n",
        "\n",
        "file_names = ['Argentina2017', 'Brasil2018', 'Brasil2006', 'Brasil2014', 'Chile2012', 'Chile2018', 'Colombia05-06', 'Colombia2012', 'Colombia2018', 'Ecuador2013', 'Ecuador2018', 'Mexico2012', 'Peru2006', 'Peru2012', 'Peru2018', 'Chile2006']\n",
        "\n",
        "periodo1 = ['05-06', '2006', ]\n",
        "periodo2 = ['2012', '2013', '2014']\n",
        "periodo3 = ['2018']\n",
        "\n",
        "df_periodo1, df_periodo2, df_periodo3 = [], [], []\n",
        "for name in file_names:\n",
        "    #df_dict[name] = pd.read_csv('/content/drive/MyDrive/datos/'+name+'_filtrado.csv')\n",
        "    #df_dict[name]['Year'] = name[-4:]\n",
        "    df = pd.read_csv('/content/drive/MyDrive/datos/' + name + '_filtrado.csv')\n",
        "    #df['Country'] = name[:-4]\n",
        "    year = name[-4:]\n",
        "    if year in periodo1 or name == 'Colombia05-06': df_periodo1.append(df)\n",
        "    if year in periodo2: df_periodo2.append(df)\n",
        "    if year in periodo3: df_periodo3.append(df)\n",
        "\n",
        "df_periodo1 = pd.concat(df_periodo1, ignore_index=True)\n",
        "df_periodo2 = pd.concat(df_periodo2, ignore_index=True)\n",
        "df_periodo3 = pd.concat(df_periodo3, ignore_index=True)\n"
      ]
    },
    {
      "cell_type": "code",
      "source": [
        "print(len(df_periodo1))\n",
        "print(len(df_periodo2))\n",
        "print(len(df_periodo3))\n"
      ],
      "metadata": {
        "colab": {
          "base_uri": "https://localhost:8080/"
        },
        "id": "L-ISsSL7rIhA",
        "outputId": "7c8b9740-fc9b-48f9-8f49-98813cdad4bb"
      },
      "execution_count": null,
      "outputs": [
        {
          "output_type": "stream",
          "name": "stdout",
          "text": [
            "7025\n",
            "8410\n",
            "6882\n"
          ]
        }
      ]
    },
    {
      "cell_type": "code",
      "source": [
        "def missing_values(df):\n",
        "    for i in df.columns:\n",
        "        if df[i].isnull().any():\n",
        "            df[i].fillna(df[i].mean(), inplace = True)\n",
        "    return df\n",
        "\n",
        "missing_values(df_periodo1)\n",
        "missing_values(df_periodo2)\n",
        "missing_values(df_periodo3)"
      ],
      "metadata": {
        "colab": {
          "base_uri": "https://localhost:8080/",
          "height": 493
        },
        "id": "53qeELhKrspb",
        "outputId": "9abd195e-7be7-4160-b06a-56cfcdfaadb3"
      },
      "execution_count": null,
      "outputs": [
        {
          "output_type": "execute_result",
          "data": {
            "text/plain": [
              "      Q1: Important in life: Family  Q2: Important in life: Friends  \\\n",
              "0                                 1                               1   \n",
              "1                                 1                               2   \n",
              "2                                 1                               2   \n",
              "3                                 2                               2   \n",
              "4                                 1                               2   \n",
              "...                             ...                             ...   \n",
              "6877                              1                               2   \n",
              "6878                              1                               3   \n",
              "6879                              1                               3   \n",
              "6880                              1                               3   \n",
              "6881                              1                               3   \n",
              "\n",
              "      Q6: Important in life: Religion  Q57: Most people can be trusted  \\\n",
              "0                                   4                                2   \n",
              "1                                  -1                                2   \n",
              "2                                   2                               -1   \n",
              "3                                   2                                2   \n",
              "4                                   3                                2   \n",
              "...                               ...                              ...   \n",
              "6877                                1                                2   \n",
              "6878                                1                                2   \n",
              "6879                                1                                2   \n",
              "6880                                1                                2   \n",
              "6881                                2                                1   \n",
              "\n",
              "      Q94: Active/Inactive membership: church or religious org  \\\n",
              "0                                                     0          \n",
              "1                                                     0          \n",
              "2                                                     2          \n",
              "3                                                     0          \n",
              "4                                                     0          \n",
              "...                                                 ...          \n",
              "6877                                                  1          \n",
              "6878                                                  0          \n",
              "6879                                                  1          \n",
              "6880                                                  1          \n",
              "6881                                                  2          \n",
              "\n",
              "      Q241: Democracy: Governments tax the rich and subsidize the poor  \n",
              "0                                                     1                 \n",
              "1                                                     4                 \n",
              "2                                                    -1                 \n",
              "3                                                     5                 \n",
              "4                                                     1                 \n",
              "...                                                 ...                 \n",
              "6877                                                  4                 \n",
              "6878                                                  9                 \n",
              "6879                                                  5                 \n",
              "6880                                                  5                 \n",
              "6881                                                 10                 \n",
              "\n",
              "[6882 rows x 6 columns]"
            ],
            "text/html": [
              "\n",
              "  <div id=\"df-7d083b10-5d04-4553-b393-6bda26d85378\" class=\"colab-df-container\">\n",
              "    <div>\n",
              "<style scoped>\n",
              "    .dataframe tbody tr th:only-of-type {\n",
              "        vertical-align: middle;\n",
              "    }\n",
              "\n",
              "    .dataframe tbody tr th {\n",
              "        vertical-align: top;\n",
              "    }\n",
              "\n",
              "    .dataframe thead th {\n",
              "        text-align: right;\n",
              "    }\n",
              "</style>\n",
              "<table border=\"1\" class=\"dataframe\">\n",
              "  <thead>\n",
              "    <tr style=\"text-align: right;\">\n",
              "      <th></th>\n",
              "      <th>Q1: Important in life: Family</th>\n",
              "      <th>Q2: Important in life: Friends</th>\n",
              "      <th>Q6: Important in life: Religion</th>\n",
              "      <th>Q57: Most people can be trusted</th>\n",
              "      <th>Q94: Active/Inactive membership: church or religious org</th>\n",
              "      <th>Q241: Democracy: Governments tax the rich and subsidize the poor</th>\n",
              "    </tr>\n",
              "  </thead>\n",
              "  <tbody>\n",
              "    <tr>\n",
              "      <th>0</th>\n",
              "      <td>1</td>\n",
              "      <td>1</td>\n",
              "      <td>4</td>\n",
              "      <td>2</td>\n",
              "      <td>0</td>\n",
              "      <td>1</td>\n",
              "    </tr>\n",
              "    <tr>\n",
              "      <th>1</th>\n",
              "      <td>1</td>\n",
              "      <td>2</td>\n",
              "      <td>-1</td>\n",
              "      <td>2</td>\n",
              "      <td>0</td>\n",
              "      <td>4</td>\n",
              "    </tr>\n",
              "    <tr>\n",
              "      <th>2</th>\n",
              "      <td>1</td>\n",
              "      <td>2</td>\n",
              "      <td>2</td>\n",
              "      <td>-1</td>\n",
              "      <td>2</td>\n",
              "      <td>-1</td>\n",
              "    </tr>\n",
              "    <tr>\n",
              "      <th>3</th>\n",
              "      <td>2</td>\n",
              "      <td>2</td>\n",
              "      <td>2</td>\n",
              "      <td>2</td>\n",
              "      <td>0</td>\n",
              "      <td>5</td>\n",
              "    </tr>\n",
              "    <tr>\n",
              "      <th>4</th>\n",
              "      <td>1</td>\n",
              "      <td>2</td>\n",
              "      <td>3</td>\n",
              "      <td>2</td>\n",
              "      <td>0</td>\n",
              "      <td>1</td>\n",
              "    </tr>\n",
              "    <tr>\n",
              "      <th>...</th>\n",
              "      <td>...</td>\n",
              "      <td>...</td>\n",
              "      <td>...</td>\n",
              "      <td>...</td>\n",
              "      <td>...</td>\n",
              "      <td>...</td>\n",
              "    </tr>\n",
              "    <tr>\n",
              "      <th>6877</th>\n",
              "      <td>1</td>\n",
              "      <td>2</td>\n",
              "      <td>1</td>\n",
              "      <td>2</td>\n",
              "      <td>1</td>\n",
              "      <td>4</td>\n",
              "    </tr>\n",
              "    <tr>\n",
              "      <th>6878</th>\n",
              "      <td>1</td>\n",
              "      <td>3</td>\n",
              "      <td>1</td>\n",
              "      <td>2</td>\n",
              "      <td>0</td>\n",
              "      <td>9</td>\n",
              "    </tr>\n",
              "    <tr>\n",
              "      <th>6879</th>\n",
              "      <td>1</td>\n",
              "      <td>3</td>\n",
              "      <td>1</td>\n",
              "      <td>2</td>\n",
              "      <td>1</td>\n",
              "      <td>5</td>\n",
              "    </tr>\n",
              "    <tr>\n",
              "      <th>6880</th>\n",
              "      <td>1</td>\n",
              "      <td>3</td>\n",
              "      <td>1</td>\n",
              "      <td>2</td>\n",
              "      <td>1</td>\n",
              "      <td>5</td>\n",
              "    </tr>\n",
              "    <tr>\n",
              "      <th>6881</th>\n",
              "      <td>1</td>\n",
              "      <td>3</td>\n",
              "      <td>2</td>\n",
              "      <td>1</td>\n",
              "      <td>2</td>\n",
              "      <td>10</td>\n",
              "    </tr>\n",
              "  </tbody>\n",
              "</table>\n",
              "<p>6882 rows × 6 columns</p>\n",
              "</div>\n",
              "    <div class=\"colab-df-buttons\">\n",
              "\n",
              "  <div class=\"colab-df-container\">\n",
              "    <button class=\"colab-df-convert\" onclick=\"convertToInteractive('df-7d083b10-5d04-4553-b393-6bda26d85378')\"\n",
              "            title=\"Convert this dataframe to an interactive table.\"\n",
              "            style=\"display:none;\">\n",
              "\n",
              "  <svg xmlns=\"http://www.w3.org/2000/svg\" height=\"24px\" viewBox=\"0 -960 960 960\">\n",
              "    <path d=\"M120-120v-720h720v720H120Zm60-500h600v-160H180v160Zm220 220h160v-160H400v160Zm0 220h160v-160H400v160ZM180-400h160v-160H180v160Zm440 0h160v-160H620v160ZM180-180h160v-160H180v160Zm440 0h160v-160H620v160Z\"/>\n",
              "  </svg>\n",
              "    </button>\n",
              "\n",
              "  <style>\n",
              "    .colab-df-container {\n",
              "      display:flex;\n",
              "      gap: 12px;\n",
              "    }\n",
              "\n",
              "    .colab-df-convert {\n",
              "      background-color: #E8F0FE;\n",
              "      border: none;\n",
              "      border-radius: 50%;\n",
              "      cursor: pointer;\n",
              "      display: none;\n",
              "      fill: #1967D2;\n",
              "      height: 32px;\n",
              "      padding: 0 0 0 0;\n",
              "      width: 32px;\n",
              "    }\n",
              "\n",
              "    .colab-df-convert:hover {\n",
              "      background-color: #E2EBFA;\n",
              "      box-shadow: 0px 1px 2px rgba(60, 64, 67, 0.3), 0px 1px 3px 1px rgba(60, 64, 67, 0.15);\n",
              "      fill: #174EA6;\n",
              "    }\n",
              "\n",
              "    .colab-df-buttons div {\n",
              "      margin-bottom: 4px;\n",
              "    }\n",
              "\n",
              "    [theme=dark] .colab-df-convert {\n",
              "      background-color: #3B4455;\n",
              "      fill: #D2E3FC;\n",
              "    }\n",
              "\n",
              "    [theme=dark] .colab-df-convert:hover {\n",
              "      background-color: #434B5C;\n",
              "      box-shadow: 0px 1px 3px 1px rgba(0, 0, 0, 0.15);\n",
              "      filter: drop-shadow(0px 1px 2px rgba(0, 0, 0, 0.3));\n",
              "      fill: #FFFFFF;\n",
              "    }\n",
              "  </style>\n",
              "\n",
              "    <script>\n",
              "      const buttonEl =\n",
              "        document.querySelector('#df-7d083b10-5d04-4553-b393-6bda26d85378 button.colab-df-convert');\n",
              "      buttonEl.style.display =\n",
              "        google.colab.kernel.accessAllowed ? 'block' : 'none';\n",
              "\n",
              "      async function convertToInteractive(key) {\n",
              "        const element = document.querySelector('#df-7d083b10-5d04-4553-b393-6bda26d85378');\n",
              "        const dataTable =\n",
              "          await google.colab.kernel.invokeFunction('convertToInteractive',\n",
              "                                                    [key], {});\n",
              "        if (!dataTable) return;\n",
              "\n",
              "        const docLinkHtml = 'Like what you see? Visit the ' +\n",
              "          '<a target=\"_blank\" href=https://colab.research.google.com/notebooks/data_table.ipynb>data table notebook</a>'\n",
              "          + ' to learn more about interactive tables.';\n",
              "        element.innerHTML = '';\n",
              "        dataTable['output_type'] = 'display_data';\n",
              "        await google.colab.output.renderOutput(dataTable, element);\n",
              "        const docLink = document.createElement('div');\n",
              "        docLink.innerHTML = docLinkHtml;\n",
              "        element.appendChild(docLink);\n",
              "      }\n",
              "    </script>\n",
              "  </div>\n",
              "\n",
              "\n",
              "<div id=\"df-d2e42ae7-16fd-481e-bee5-d5b4848ab02d\">\n",
              "  <button class=\"colab-df-quickchart\" onclick=\"quickchart('df-d2e42ae7-16fd-481e-bee5-d5b4848ab02d')\"\n",
              "            title=\"Suggest charts\"\n",
              "            style=\"display:none;\">\n",
              "\n",
              "<svg xmlns=\"http://www.w3.org/2000/svg\" height=\"24px\"viewBox=\"0 0 24 24\"\n",
              "     width=\"24px\">\n",
              "    <g>\n",
              "        <path d=\"M19 3H5c-1.1 0-2 .9-2 2v14c0 1.1.9 2 2 2h14c1.1 0 2-.9 2-2V5c0-1.1-.9-2-2-2zM9 17H7v-7h2v7zm4 0h-2V7h2v10zm4 0h-2v-4h2v4z\"/>\n",
              "    </g>\n",
              "</svg>\n",
              "  </button>\n",
              "\n",
              "<style>\n",
              "  .colab-df-quickchart {\n",
              "      --bg-color: #E8F0FE;\n",
              "      --fill-color: #1967D2;\n",
              "      --hover-bg-color: #E2EBFA;\n",
              "      --hover-fill-color: #174EA6;\n",
              "      --disabled-fill-color: #AAA;\n",
              "      --disabled-bg-color: #DDD;\n",
              "  }\n",
              "\n",
              "  [theme=dark] .colab-df-quickchart {\n",
              "      --bg-color: #3B4455;\n",
              "      --fill-color: #D2E3FC;\n",
              "      --hover-bg-color: #434B5C;\n",
              "      --hover-fill-color: #FFFFFF;\n",
              "      --disabled-bg-color: #3B4455;\n",
              "      --disabled-fill-color: #666;\n",
              "  }\n",
              "\n",
              "  .colab-df-quickchart {\n",
              "    background-color: var(--bg-color);\n",
              "    border: none;\n",
              "    border-radius: 50%;\n",
              "    cursor: pointer;\n",
              "    display: none;\n",
              "    fill: var(--fill-color);\n",
              "    height: 32px;\n",
              "    padding: 0;\n",
              "    width: 32px;\n",
              "  }\n",
              "\n",
              "  .colab-df-quickchart:hover {\n",
              "    background-color: var(--hover-bg-color);\n",
              "    box-shadow: 0 1px 2px rgba(60, 64, 67, 0.3), 0 1px 3px 1px rgba(60, 64, 67, 0.15);\n",
              "    fill: var(--button-hover-fill-color);\n",
              "  }\n",
              "\n",
              "  .colab-df-quickchart-complete:disabled,\n",
              "  .colab-df-quickchart-complete:disabled:hover {\n",
              "    background-color: var(--disabled-bg-color);\n",
              "    fill: var(--disabled-fill-color);\n",
              "    box-shadow: none;\n",
              "  }\n",
              "\n",
              "  .colab-df-spinner {\n",
              "    border: 2px solid var(--fill-color);\n",
              "    border-color: transparent;\n",
              "    border-bottom-color: var(--fill-color);\n",
              "    animation:\n",
              "      spin 1s steps(1) infinite;\n",
              "  }\n",
              "\n",
              "  @keyframes spin {\n",
              "    0% {\n",
              "      border-color: transparent;\n",
              "      border-bottom-color: var(--fill-color);\n",
              "      border-left-color: var(--fill-color);\n",
              "    }\n",
              "    20% {\n",
              "      border-color: transparent;\n",
              "      border-left-color: var(--fill-color);\n",
              "      border-top-color: var(--fill-color);\n",
              "    }\n",
              "    30% {\n",
              "      border-color: transparent;\n",
              "      border-left-color: var(--fill-color);\n",
              "      border-top-color: var(--fill-color);\n",
              "      border-right-color: var(--fill-color);\n",
              "    }\n",
              "    40% {\n",
              "      border-color: transparent;\n",
              "      border-right-color: var(--fill-color);\n",
              "      border-top-color: var(--fill-color);\n",
              "    }\n",
              "    60% {\n",
              "      border-color: transparent;\n",
              "      border-right-color: var(--fill-color);\n",
              "    }\n",
              "    80% {\n",
              "      border-color: transparent;\n",
              "      border-right-color: var(--fill-color);\n",
              "      border-bottom-color: var(--fill-color);\n",
              "    }\n",
              "    90% {\n",
              "      border-color: transparent;\n",
              "      border-bottom-color: var(--fill-color);\n",
              "    }\n",
              "  }\n",
              "</style>\n",
              "\n",
              "  <script>\n",
              "    async function quickchart(key) {\n",
              "      const quickchartButtonEl =\n",
              "        document.querySelector('#' + key + ' button');\n",
              "      quickchartButtonEl.disabled = true;  // To prevent multiple clicks.\n",
              "      quickchartButtonEl.classList.add('colab-df-spinner');\n",
              "      try {\n",
              "        const charts = await google.colab.kernel.invokeFunction(\n",
              "            'suggestCharts', [key], {});\n",
              "      } catch (error) {\n",
              "        console.error('Error during call to suggestCharts:', error);\n",
              "      }\n",
              "      quickchartButtonEl.classList.remove('colab-df-spinner');\n",
              "      quickchartButtonEl.classList.add('colab-df-quickchart-complete');\n",
              "    }\n",
              "    (() => {\n",
              "      let quickchartButtonEl =\n",
              "        document.querySelector('#df-d2e42ae7-16fd-481e-bee5-d5b4848ab02d button');\n",
              "      quickchartButtonEl.style.display =\n",
              "        google.colab.kernel.accessAllowed ? 'block' : 'none';\n",
              "    })();\n",
              "  </script>\n",
              "</div>\n",
              "\n",
              "  <div id=\"id_eb74aff3-ba67-45fd-be49-319288496b42\">\n",
              "    <style>\n",
              "      .colab-df-generate {\n",
              "        background-color: #E8F0FE;\n",
              "        border: none;\n",
              "        border-radius: 50%;\n",
              "        cursor: pointer;\n",
              "        display: none;\n",
              "        fill: #1967D2;\n",
              "        height: 32px;\n",
              "        padding: 0 0 0 0;\n",
              "        width: 32px;\n",
              "      }\n",
              "\n",
              "      .colab-df-generate:hover {\n",
              "        background-color: #E2EBFA;\n",
              "        box-shadow: 0px 1px 2px rgba(60, 64, 67, 0.3), 0px 1px 3px 1px rgba(60, 64, 67, 0.15);\n",
              "        fill: #174EA6;\n",
              "      }\n",
              "\n",
              "      [theme=dark] .colab-df-generate {\n",
              "        background-color: #3B4455;\n",
              "        fill: #D2E3FC;\n",
              "      }\n",
              "\n",
              "      [theme=dark] .colab-df-generate:hover {\n",
              "        background-color: #434B5C;\n",
              "        box-shadow: 0px 1px 3px 1px rgba(0, 0, 0, 0.15);\n",
              "        filter: drop-shadow(0px 1px 2px rgba(0, 0, 0, 0.3));\n",
              "        fill: #FFFFFF;\n",
              "      }\n",
              "    </style>\n",
              "    <button class=\"colab-df-generate\" onclick=\"generateWithVariable('df_periodo3')\"\n",
              "            title=\"Generate code using this dataframe.\"\n",
              "            style=\"display:none;\">\n",
              "\n",
              "  <svg xmlns=\"http://www.w3.org/2000/svg\" height=\"24px\"viewBox=\"0 0 24 24\"\n",
              "       width=\"24px\">\n",
              "    <path d=\"M7,19H8.4L18.45,9,17,7.55,7,17.6ZM5,21V16.75L18.45,3.32a2,2,0,0,1,2.83,0l1.4,1.43a1.91,1.91,0,0,1,.58,1.4,1.91,1.91,0,0,1-.58,1.4L9.25,21ZM18.45,9,17,7.55Zm-12,3A5.31,5.31,0,0,0,4.9,8.1,5.31,5.31,0,0,0,1,6.5,5.31,5.31,0,0,0,4.9,4.9,5.31,5.31,0,0,0,6.5,1,5.31,5.31,0,0,0,8.1,4.9,5.31,5.31,0,0,0,12,6.5,5.46,5.46,0,0,0,6.5,12Z\"/>\n",
              "  </svg>\n",
              "    </button>\n",
              "    <script>\n",
              "      (() => {\n",
              "      const buttonEl =\n",
              "        document.querySelector('#id_eb74aff3-ba67-45fd-be49-319288496b42 button.colab-df-generate');\n",
              "      buttonEl.style.display =\n",
              "        google.colab.kernel.accessAllowed ? 'block' : 'none';\n",
              "\n",
              "      buttonEl.onclick = () => {\n",
              "        google.colab.notebook.generateWithVariable('df_periodo3');\n",
              "      }\n",
              "      })();\n",
              "    </script>\n",
              "  </div>\n",
              "\n",
              "    </div>\n",
              "  </div>\n"
            ],
            "application/vnd.google.colaboratory.intrinsic+json": {
              "type": "dataframe",
              "variable_name": "df_periodo3",
              "summary": "{\n  \"name\": \"df_periodo3\",\n  \"rows\": 6882,\n  \"fields\": [\n    {\n      \"column\": \"Q1: Important in life: Family\",\n      \"properties\": {\n        \"dtype\": \"number\",\n        \"std\": 0,\n        \"min\": -5,\n        \"max\": 4,\n        \"num_unique_values\": 6,\n        \"samples\": [\n          1,\n          2,\n          -5\n        ],\n        \"semantic_type\": \"\",\n        \"description\": \"\"\n      }\n    },\n    {\n      \"column\": \"Q2: Important in life: Friends\",\n      \"properties\": {\n        \"dtype\": \"number\",\n        \"std\": 0,\n        \"min\": -5,\n        \"max\": 4,\n        \"num_unique_values\": 7,\n        \"samples\": [\n          1,\n          2,\n          -1\n        ],\n        \"semantic_type\": \"\",\n        \"description\": \"\"\n      }\n    },\n    {\n      \"column\": \"Q6: Important in life: Religion\",\n      \"properties\": {\n        \"dtype\": \"number\",\n        \"std\": 0,\n        \"min\": -2,\n        \"max\": 4,\n        \"num_unique_values\": 6,\n        \"samples\": [\n          4,\n          -1,\n          -2\n        ],\n        \"semantic_type\": \"\",\n        \"description\": \"\"\n      }\n    },\n    {\n      \"column\": \"Q57: Most people can be trusted\",\n      \"properties\": {\n        \"dtype\": \"number\",\n        \"std\": 0,\n        \"min\": -5,\n        \"max\": 2,\n        \"num_unique_values\": 5,\n        \"samples\": [\n          -1,\n          -5,\n          1\n        ],\n        \"semantic_type\": \"\",\n        \"description\": \"\"\n      }\n    },\n    {\n      \"column\": \"Q94: Active/Inactive membership: church or religious org\",\n      \"properties\": {\n        \"dtype\": \"number\",\n        \"std\": 0,\n        \"min\": -2,\n        \"max\": 2,\n        \"num_unique_values\": 5,\n        \"samples\": [\n          2,\n          -2,\n          1\n        ],\n        \"semantic_type\": \"\",\n        \"description\": \"\"\n      }\n    },\n    {\n      \"column\": \"Q241: Democracy: Governments tax the rich and subsidize the poor\",\n      \"properties\": {\n        \"dtype\": \"number\",\n        \"std\": 3,\n        \"min\": -5,\n        \"max\": 10,\n        \"num_unique_values\": 14,\n        \"samples\": [\n          3,\n          0,\n          1\n        ],\n        \"semantic_type\": \"\",\n        \"description\": \"\"\n      }\n    }\n  ]\n}"
            }
          },
          "metadata": {},
          "execution_count": 6
        }
      ]
    },
    {
      "cell_type": "code",
      "source": [
        "df_norm1 = ((df_periodo1-df_periodo1.min())/ (df_periodo1.max() - df_periodo1.min())).dropna(axis=1, inplace=False)\n",
        "df_norm2 = ((df_periodo2-df_periodo2.min())/ (df_periodo2.max() - df_periodo2.min())).dropna(axis=1, inplace=False)\n",
        "df_norm3 = ((df_periodo3-df_periodo3.min())/ (df_periodo3.max() - df_periodo3.min())).dropna(axis=1, inplace=False)\n"
      ],
      "metadata": {
        "id": "7XF0ID3RS5MQ"
      },
      "execution_count": null,
      "outputs": []
    },
    {
      "cell_type": "code",
      "source": [
        "individualist_vars = {1:[\n",
        "    'V5: Important in life: Friends',\n",
        "    'V23: Most people can be trusted',\n",
        "    'V81: Schwartz: It is important to this person to be rich',\n",
        "    'V5_CO: Friends important (Colombia)'\n",
        "], 2:[\n",
        "    'V5: Important in life: Friends',\n",
        "    'V23: Satisfaction with your life',\n",
        "    'V24: Most people can be trusted',\n",
        "    'V71: Schwartz: It is important to this person to be rich'\n",
        "], 3:['Q2: Important in life: Friends',\n",
        "    'Q57: Most people can be trusted']}\n",
        "\n",
        "colectivist_vars = {1:['V4: Important in life: Family',\n",
        "    'V9: Important in life: Religion',\n",
        "    'V24: Active/Inactive membership of church or religious organization',\n",
        "    'V84: Schwartz: It is important to this person to help the people nearby',\n",
        "    'V125: How much you trust: Your family (B)',\n",
        "    'V152: Democracy: Governments tax the rich and subsidize the poor.',\n",
        "    'V4_CO: Family important (Colombia)',\n",
        "    'V9_CO: Religion important (Colombia)'\n",
        "], 2:[\n",
        "    'V9: Important in life: Religion',\n",
        "    'V25: Active/Inactive membership of church or religious organization',\n",
        "    'V74: Schwartz: It is important to this person to do something for the good of society',\n",
        "    'V102: How much you trust: Your family (B)',\n",
        "    'V131: Democracy: Governments tax the rich and subsidize the poor.'\n",
        "], 3:['Q1: Important in life: Family',\n",
        "    'Q6: Important in life: Religion',\n",
        "    'Q94: Active/Inactive membership: church or religious org',\n",
        "    'Q241: Democracy: Governments tax the rich and subsidize the poor']}"
      ],
      "metadata": {
        "id": "-iluyOrwoZkH"
      },
      "execution_count": null,
      "outputs": []
    },
    {
      "cell_type": "code",
      "source": [
        "df_ind1 = df_norm1[individualist_vars[1]]\n",
        "df_ind2 = df_norm2[individualist_vars[2]]\n",
        "df_ind3 = df_norm3[individualist_vars[3]]\n",
        "\n",
        "df_col1 = df_norm1[colectivist_vars[1]]\n",
        "df_col2 = df_norm2[colectivist_vars[2]]\n",
        "df_col3 = df_norm3[colectivist_vars[3]]\n",
        "\n",
        "df_inds = [df_ind1, df_ind2, df_ind3]\n",
        "df_cols = [df_col1, df_col2, df_col3]\n"
      ],
      "metadata": {
        "id": "51s8SngLaP0L"
      },
      "execution_count": null,
      "outputs": []
    },
    {
      "cell_type": "code",
      "source": [
        "slopes_ind1 = df_ind2.mean(axis=1).mean() - df_ind1.mean(axis=1).mean()\n",
        "slopes_ind2 = df_ind3.mean(axis=1).mean() - df_ind2.mean(axis=1).mean()\n",
        "print(slopes_ind1)\n",
        "print(slopes_ind2)\n",
        "\n",
        "slopes_col1 = df_col2.mean(axis=1).mean() - df_col1.mean(axis=1).mean()\n",
        "slopes_col2 = df_col3.mean(axis=1).mean() - df_col2.mean(axis=1).mean()\n",
        "print(slopes_col1)\n",
        "print(slopes_col2)"
      ],
      "metadata": {
        "colab": {
          "base_uri": "https://localhost:8080/"
        },
        "id": "4eMauJk3i0y0",
        "outputId": "c216ffb1-669d-4247-bf3c-e82f9c2dc923"
      },
      "execution_count": null,
      "outputs": [
        {
          "output_type": "stream",
          "name": "stdout",
          "text": [
            "0.018262797544312037\n",
            "0.06707286835746151\n",
            "0.015009590653830118\n",
            "0.07382471224052845\n"
          ]
        }
      ]
    },
    {
      "cell_type": "code",
      "source": [
        "import matplotlib.pyplot as plt\n",
        "\n",
        "plt.plot([2005, 2012, 2018], [df.mean(axis=1).mean() for df in df_inds], label='Individualism')\n",
        "plt.scatter([2005, 2012, 2018], [df.mean(axis=1).mean() for df in df_inds])\n",
        "\n",
        "plt.plot([2005, 2012, 2018], [df.mean(axis=1).mean() for df in df_cols], label='Colectivism')\n",
        "plt.scatter([2005, 2012, 2018], [df.mean(axis=1).mean() for df in df_cols])\n",
        "\n",
        "\n",
        "plt.legend()\n",
        "plt.grid()\n"
      ],
      "metadata": {
        "colab": {
          "base_uri": "https://localhost:8080/",
          "height": 430
        },
        "id": "NXHl1NAqgYbK",
        "outputId": "97979da2-e810-4750-ea7d-5c1d055e9835"
      },
      "execution_count": null,
      "outputs": [
        {
          "output_type": "display_data",
          "data": {
            "text/plain": [
              "<Figure size 640x480 with 1 Axes>"
            ],
            "image/png": "[encoded data removed]"
          },
          "metadata": {}
        }
      ]
    },
    {
      "cell_type": "code",
      "source": [
        "from sklearn.cluster import KMeans"
      ],
      "metadata": {
        "id": "wgptNEkYkWeQ"
      },
      "execution_count": null,
      "outputs": []
    },
    {
      "cell_type": "code",
      "source": [
        "kmeans = KMeans(n_clusters=4, random_state=0, n_init=\"auto\").fit(df_ind1)\n",
        "kmeans.labels_"
      ],
      "metadata": {
        "colab": {
          "base_uri": "https://localhost:8080/"
        },
        "id": "ESupLUhDnMGB",
        "outputId": "cbc35986-d4fa-4dc2-bd14-18fcc8812bc2"
      },
      "execution_count": null,
      "outputs": [
        {
          "output_type": "execute_result",
          "data": {
            "text/plain": [
              "array([1, 1, 1, ..., 2, 2, 2], dtype=int32)"
            ]
          },
          "metadata": {},
          "execution_count": 46
        }
      ]
    },
    {
      "cell_type": "code",
      "source": [
        "print('Variables individualistas\\n')\n",
        "print(df_ind1.mean(axis=0).mean())\n",
        "print('\\nVariables colectivistas\\n')\n",
        "print(df_col1.mean(axis=0).mean())"
      ],
      "metadata": {
        "colab": {
          "base_uri": "https://localhost:8080/"
        },
        "id": "KWLPVrPeeMLW",
        "outputId": "745d1d63-7df5-41f8-a826-be4a7dbd9f25"
      },
      "execution_count": null,
      "outputs": [
        {
          "output_type": "stream",
          "name": "stdout",
          "text": [
            "Variables individualistas\n",
            "\n",
            "0.7954621826380106\n",
            "\n",
            "Variables colectivistas\n",
            "\n",
            "0.5822793510821986\n"
          ]
        }
      ]
    },
    {
      "cell_type": "markdown",
      "source": [
        "**Описание переменных:**\n",
        "\n",
        "* `Important in life: Family` - важность семьи в жизни\n",
        "* `Important in life: Friends` - важность друзей в жизни\n",
        "* `Important in life: Religion` - важность религии в жизни\n",
        "* `Most people can be trusted` - считает, что большинству людям можно доверять\n",
        "* `Active/Inactive membership of church or religious organization` - ходит ли человек в церковь или состоит в религиозной организации\n",
        "* `Schwartz: It is important to this person to be rich` - считают ли люди важным стать богатым\n",
        "* `Schwartz: It is important to this person to help the people nearby` - считают ли люди важным помогать окружающим\n",
        "* `How much you trust: Your family` - насколько люди доверяют своей семье\n",
        "* `Democracy: Governments tax the rich and subsidize the poor` - оценка демократии в стране (правительства облагают налогами богатых и субсидируют бедных)\n",
        "* `Year` - год (2006, 2012, 2013, 2014, 2017, 2018)\n",
        "* `Country` - стран (Бразилия, Перу, Уругвай, Чили, Колумбия, Эквадор, Мексика, Аргентина)\n",
        "* `Satisfaction with your life` - насколько люди удовлетворены своей жизнью"
      ],
      "metadata": {
        "id": "mUar_XB-Ux-I"
      }
    },
    {
      "cell_type": "code",
      "source": [],
      "metadata": {
        "id": "PDEUe8xEUzzn"
      },
      "execution_count": null,
      "outputs": []
    }
  ]
}